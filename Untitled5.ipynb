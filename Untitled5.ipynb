{
 "cells": [
  {
   "cell_type": "code",
   "execution_count": 1,
   "id": "3539c134",
   "metadata": {},
   "outputs": [],
   "source": [
    "import pandas as pd"
   ]
  },
  {
   "cell_type": "code",
   "execution_count": 2,
   "id": "bed3aa68",
   "metadata": {},
   "outputs": [],
   "source": [
    "# Load your Excel file\n",
    "df = pd.read_excel('Book1.xlsx')"
   ]
  },
  {
   "cell_type": "code",
   "execution_count": 3,
   "id": "67514757",
   "metadata": {},
   "outputs": [],
   "source": [
    "# Create a new list to store final rows\n",
    "new_rows = []"
   ]
  },
  {
   "cell_type": "code",
   "execution_count": 4,
   "id": "7f5faf90",
   "metadata": {},
   "outputs": [],
   "source": [
    "# Iterate over each row\n",
    "for idx, row in df.iterrows():\n",
    "    authors = str(row['Authors']).split(',')\n",
    "    author_ids = str(row['Author(s) ID']).split(';')\n",
    "\n",
    "    # Create a separate row for each author and their corresponding author ID\n",
    "    max_len = max(len(authors), len(author_ids))\n",
    "    for i in range(max_len):\n",
    "        author = authors[i].strip() if i < len(authors) else ''\n",
    "        author_id = author_ids[i].strip() if i < len(author_ids) else ''\n",
    "\n",
    "        new_row = {\n",
    "            'Company': row['Company'],\n",
    "            'EID': row['EID'],\n",
    "            'CID': row['CID'],\n",
    "            'Authors': author,\n",
    "            'Author(s) ID': author_id,\n",
    "            'Title': row['Title'],\n",
    "            'Affiliations': row['Affiliations']\n",
    "        }\n",
    "        new_rows.append(new_row)"
   ]
  },
  {
   "cell_type": "code",
   "execution_count": 5,
   "id": "79ecd10a",
   "metadata": {},
   "outputs": [],
   "source": [
    "# Create a new DataFrame from the list of new rows\n",
    "df_final = pd.DataFrame(new_rows)\n",
    "\n",
    "# Save the new DataFrame to a new Excel file\n",
    "df_final.to_excel('Book7.xlsx', index=False)"
   ]
  },
  {
   "cell_type": "code",
   "execution_count": null,
   "id": "324e5f5a",
   "metadata": {},
   "outputs": [],
   "source": []
  }
 ],
 "metadata": {
  "kernelspec": {
   "display_name": "Python 3 (ipykernel)",
   "language": "python",
   "name": "python3"
  },
  "language_info": {
   "codemirror_mode": {
    "name": "ipython",
    "version": 3
   },
   "file_extension": ".py",
   "mimetype": "text/x-python",
   "name": "python",
   "nbconvert_exporter": "python",
   "pygments_lexer": "ipython3",
   "version": "3.9.12"
  }
 },
 "nbformat": 4,
 "nbformat_minor": 5
}
